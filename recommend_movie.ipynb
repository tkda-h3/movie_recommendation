{
 "cells": [
  {
   "cell_type": "code",
   "execution_count": 9,
   "metadata": {
    "collapsed": true
   },
   "outputs": [],
   "source": [
    "import numpy as np\n",
    "rng = np.random.RandomState(1234)"
   ]
  },
  {
   "cell_type": "markdown",
   "metadata": {},
   "source": [
    "## データの用意"
   ]
  },
  {
   "cell_type": "code",
   "execution_count": 24,
   "metadata": {
    "collapsed": false
   },
   "outputs": [
    {
     "name": "stdout",
     "output_type": "stream",
     "text": [
      "(943, 1682)\n"
     ]
    },
    {
     "data": {
      "text/plain": [
       "array([[ 5.,  3.,  4.,  3.,  3.,  5.,  4.,  1.,  5.,  3.,  2.,  5.,  5.,\n",
       "         5.,  5.,  5.,  3.,  4.,  5.,  4.],\n",
       "       [ 4.,  0.,  0.,  0.,  0.,  0.,  0.,  0.,  0.,  2.,  0.,  0.,  4.,\n",
       "         4.,  0.,  0.,  0.,  0.,  3.,  0.],\n",
       "       [ 0.,  0.,  0.,  0.,  0.,  0.,  0.,  0.,  0.,  0.,  0.,  0.,  0.,\n",
       "         0.,  0.,  0.,  0.,  0.,  0.,  0.]])"
      ]
     },
     "execution_count": 24,
     "metadata": {},
     "output_type": "execute_result"
    }
   ],
   "source": [
    "dir_name = './ml-100k/'\n",
    "f = open(dir_name + 'u.info')\n",
    "user_num, item_num = [(int)(li.split(\" \")[0]) for li in f.readlines()[:-1]]\n",
    "f.close()\n",
    "R = np.zeros((user_num,item_num))\n",
    "print R.shape\n",
    "f = open(dir_name + 'u.data')\n",
    "# lines = [ li.split(\"\\t\")[:-1] for li in f.readlines()]\n",
    "lines = [map(lambda x: int(x), li.split(\"\\t\")[:-1]) for li in f.readlines()]\n",
    "f.close()\n",
    "for li in lines:\n",
    "    R[li[0]-1,li[1]-1] = li[2]\n",
    "\n",
    "# R[0:3,0:20]"
   ]
  },
  {
   "cell_type": "code",
   "execution_count": 28,
   "metadata": {
    "collapsed": false
   },
   "outputs": [],
   "source": [
    "latent_dim = 20\n",
    "# R ~= np.dot(P,Q.T) となるように学習\n",
    "P = np.random.uniform(low=-0.1,high =0.1,size=(R.shape[0],latent_dim))\n",
    "Q = np.random.uniform(low=-0.1,high =0.1,size=(R.shape[1],latent_dim))"
   ]
  },
  {
   "cell_type": "code",
   "execution_count": null,
   "metadata": {
    "collapsed": true
   },
   "outputs": [],
   "source": []
  },
  {
   "cell_type": "code",
   "execution_count": null,
   "metadata": {
    "collapsed": true
   },
   "outputs": [],
   "source": []
  },
  {
   "cell_type": "code",
   "execution_count": null,
   "metadata": {
    "collapsed": true
   },
   "outputs": [],
   "source": []
  }
 ],
 "metadata": {
  "kernelspec": {
   "display_name": "Python 2",
   "language": "python",
   "name": "python2"
  },
  "language_info": {
   "codemirror_mode": {
    "name": "ipython",
    "version": 2
   },
   "file_extension": ".py",
   "mimetype": "text/x-python",
   "name": "python",
   "nbconvert_exporter": "python",
   "pygments_lexer": "ipython2",
   "version": "2.7.11"
  }
 },
 "nbformat": 4,
 "nbformat_minor": 0
}

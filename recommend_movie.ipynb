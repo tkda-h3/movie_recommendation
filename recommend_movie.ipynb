{
 "cells": [
  {
   "cell_type": "code",
   "execution_count": 1,
   "metadata": {
    "collapsed": true
   },
   "outputs": [],
   "source": [
    "import numpy as np\n",
    "rng = np.random.RandomState(1234)"
   ]
  },
  {
   "cell_type": "markdown",
   "metadata": {},
   "source": [
    "## データの用意"
   ]
  },
  {
   "cell_type": "code",
   "execution_count": 86,
   "metadata": {
    "collapsed": false
   },
   "outputs": [
    {
     "name": "stdout",
     "output_type": "stream",
     "text": [
      "(943, 1682)\n"
     ]
    }
   ],
   "source": [
    "dir_name = './ml-100k/'\n",
    "f = open(dir_name + 'u.info')\n",
    "user_num, item_num = [(int)(li.split(\" \")[0]) for li in f.readlines()[:-1]]\n",
    "f.close()\n",
    "R = np.zeros((user_num,item_num))\n",
    "print R.shape\n",
    "f = open(dir_name + 'u.data')\n",
    "# lines = [ li.split(\"\\t\")[:-1] for li in f.readlines()]\n",
    "lines = [map(lambda x: int(x), li.split(\"\\t\")[:-1]) for li in f.readlines()]\n",
    "f.close()\n",
    "for li in lines:\n",
    "    R[li[0]-1,li[1]-1] = li[2]\n",
    "# R[0:3,0:20]"
   ]
  },
  {
   "cell_type": "markdown",
   "metadata": {
    "collapsed": false
   },
   "source": [
    "\\begin{equation*} \\min_{p,q,b_u,b_i} \\sum_{(u,i) \\in R} (r_{u,i} - p_u q^{T}_i - \\mu - b_u - b_i)^{2} + \\lambda ()^{2}\\end{equation*}"
   ]
  },
  {
   "cell_type": "code",
   "execution_count": 117,
   "metadata": {
    "collapsed": false
   },
   "outputs": [],
   "source": [
    "def matrix_factorization(R,latent_dim = 20,alpha=0.05,lamb=0.1):\n",
    "    # initialize parameter\n",
    "    P = np.random.uniform(low=0.2,high =2,size=(R.shape[0],latent_dim))\n",
    "    Q = np.random.uniform(low=0.2,high =2,size=(R.shape[1],latent_dim))\n",
    "    mu = R.sum() / (R != 0).sum()\n",
    "    b_u = R.sum(1) / (R != 0).sum(1) - mu #行(user)のbias\n",
    "    print b_u\n",
    "    b_i = R.sum(0) / (R != 0).sum(0) - mu #列(item)のbias\n",
    "    \n",
    "    for epoch in xrange(100000000000000000):\n",
    "        #errの計算\n",
    "        non_zero_index_of_R = np.argwhere(R != 0).T\n",
    "        err = R; \n",
    "        # Rの0の要素は計算に含めない\n",
    "        err[non_zero_index_of_R[0],non_zero_index_of_R[1]] -= np.dot(P,Q.T)[non_zero_index_of_R[0],non_zero_index_of_R[1]]\n",
    "        #update\n",
    "        b_u += alpha * (err.sum(1) - err.shape[1] * lamb * b_u)\n",
    "        b_i  += alpha * (err.sum(0) - err.shape[0] * lamb * b_i)\n",
    "        Q += alpha * (np.dot(err.T,P) - err.shape[0] * lamb * Q)\n",
    "        P += alpha * (np.dot(err,Q) - err.shape[1] * lamb * P)\n",
    "        \n",
    "        print P\n",
    "        print Q\n",
    "        return np.dot(P,Q.T)\n",
    "        \n",
    "    \n",
    "    \n",
    "    "
   ]
  },
  {
   "cell_type": "markdown",
   "metadata": {},
   "source": [
    "## 練習"
   ]
  },
  {
   "cell_type": "code",
   "execution_count": 119,
   "metadata": {
    "collapsed": false
   },
   "outputs": [
    {
     "name": "stdout",
     "output_type": "stream",
     "text": [
      "[[ 3.  3.  4.  5.  0.  2.  0.  0.  0.  3.]\n",
      " [ 2.  0.  0.  4.  0.  0.  2.  0.  0.  0.]\n",
      " [ 0.  3.  5.  0.  0.  0.  0.  0.  4.  3.]\n",
      " [ 3.  0.  0.  4.  2.  0.  1.  1.  0.  0.]]\n",
      "-------------------------\n",
      "[ 0.33333333 -0.33333333  0.75       -0.8       ]\n",
      "[[ 0.63510465  0.60692334  1.49122602]\n",
      " [ 0.3582865   1.52820319  1.16470942]\n",
      " [ 0.90453399  0.80903537  1.59454879]\n",
      " [ 0.34159817  0.58756689  1.09758428]]\n",
      "[[ 0.34725749  0.46167346  1.41098681]\n",
      " [ 1.36293721  1.55364588  1.2003743 ]\n",
      " [ 1.84210721  0.50497625  0.88417147]\n",
      " [ 1.48816727  1.59674314  1.384281  ]\n",
      " [ 0.20594772  1.23799415  1.01811018]\n",
      " [ 1.71983417  1.73708618  0.6778229 ]\n",
      " [ 1.05148981  0.19234431  0.70680948]\n",
      " [ 1.19652705  0.74578995  0.26346632]\n",
      " [ 1.53995301  1.1451043   0.48956303]\n",
      " [ 1.02615642  0.42060547  1.18556789]]\n",
      "[[ 3.  4.  3.  4.  2.  3.  2.  2.  2.  3.]\n",
      " [ 2.  4.  2.  5.  3.  4.  1.  2.  3.  2.]\n",
      " [ 3.  4.  3.  5.  3.  4.  2.  2.  3.  3.]\n",
      " [ 2.  3.  2.  3.  2.  2.  1.  1.  2.  2.]]\n"
     ]
    }
   ],
   "source": [
    "latent_dim = 2\n",
    "\n",
    "P = np.random.uniform(low=0,high =1,size=(R.shape[0],latent_dim))\n",
    "Q = np.random.uniform(low=0,high =1,size=(R.shape[1],latent_dim))\n",
    "\n",
    "R = np.array([\n",
    "    [3,3,4,5,0,2,0,0,0,3],\n",
    "    [2,0,0,4,0,0,2,0,0,0],\n",
    "    [0,3,5,0,0,0,0,0,4,3],\n",
    "    [3,0,0,4,2,0,1,1,0,0],],dtype=\"float32\")\n",
    "# print(R.sum(1) / (R != 0).sum(1)) \n",
    "# print(R.sum(0) / (R != 0).sum(0)) \n",
    "# print(R.sum() / (R != 0).sum()) \n",
    "\n",
    "print R\n",
    "print \"-----\" * 5\n",
    "ans = matrix_factorization(R,3)\n",
    "print np.around(ans)\n",
    "# non_zero_index_of_R = np.argwhere(R != 0)\n",
    "# err = R\n",
    "# print err\n",
    "# err[non_zero_index_of_R.T[0], non_zero_index_of_R.T[1]] = np.dot(P,Q.T)[non_zero_index_of_R.T[0], non_zero_index_of_R.T[1]]\n",
    "# print err\n",
    "# print err.shape\n",
    "# print non_zero_index_of_R.T\n",
    "# print R[non_zero_index_of_R.T[0], non_zero_index_of_R.T[1]]\n",
    "\n",
    "# np.where(R != 0)"
   ]
  },
  {
   "cell_type": "code",
   "execution_count": null,
   "metadata": {
    "collapsed": true
   },
   "outputs": [],
   "source": []
  },
  {
   "cell_type": "code",
   "execution_count": null,
   "metadata": {
    "collapsed": true
   },
   "outputs": [],
   "source": []
  }
 ],
 "metadata": {
  "kernelspec": {
   "display_name": "Python 2",
   "language": "python",
   "name": "python2"
  },
  "language_info": {
   "codemirror_mode": {
    "name": "ipython",
    "version": 2
   },
   "file_extension": ".py",
   "mimetype": "text/x-python",
   "name": "python",
   "nbconvert_exporter": "python",
   "pygments_lexer": "ipython2",
   "version": "2.7.11"
  }
 },
 "nbformat": 4,
 "nbformat_minor": 0
}

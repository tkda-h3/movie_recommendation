{
 "cells": [
  {
   "cell_type": "code",
   "execution_count": 31,
   "metadata": {
    "collapsed": true
   },
   "outputs": [],
   "source": [
    "import numpy as np\n",
    "rng = np.random.RandomState(1234)"
   ]
  },
  {
   "cell_type": "markdown",
   "metadata": {},
   "source": [
    "## データの用意"
   ]
  },
  {
   "cell_type": "code",
   "execution_count": 32,
   "metadata": {
    "collapsed": false
   },
   "outputs": [
    {
     "name": "stdout",
     "output_type": "stream",
     "text": [
      "(943, 1682)\n"
     ]
    }
   ],
   "source": [
    "dir_name = './ml-100k/'\n",
    "f = open(dir_name + 'u.info')\n",
    "user_num, item_num = [(int)(li.split(\" \")[0]) for li in f.readlines()[:-1]]\n",
    "f.close()\n",
    "R = np.zeros((user_num,item_num))\n",
    "print R.shape\n",
    "f = open(dir_name + 'u.data')\n",
    "# lines = [ li.split(\"\\t\")[:-1] for li in f.readlines()]\n",
    "lines = [map(lambda x: int(x), li.split(\"\\t\")[:-1]) for li in f.readlines()]\n",
    "f.close()\n",
    "for li in lines:\n",
    "    R[li[0]-1,li[1]-1] = li[2]\n",
    "# R[0:3,0:20]"
   ]
  },
  {
   "cell_type": "markdown",
   "metadata": {
    "collapsed": false
   },
   "source": [
    "\\begin{equation*} \\min_{p,q,b_u,b_i} \\sum_{(u,i) \\in R} (r_{u,i} - p_u q^{T}_i - \\mu - b_u - b_i)^{2} + \\lambda ()^{2}\\end{equation*}"
   ]
  },
  {
   "cell_type": "code",
   "execution_count": 35,
   "metadata": {
    "collapsed": false
   },
   "outputs": [],
   "source": [
    "def f1_score(ans,pred):\n",
    "    cmp_num = (ans != 0).sum() # ansの0でない要素の数\n",
    "    mistake_num = (pred * (ans != 0) != ans).sum() #ansの０以外の要素のうちpredと不一致の数\n",
    "    #print (pred * (ans != 0))\n",
    "    return (cmp_num - mistake_num) / float(cmp_num)\n",
    "\n",
    "def cost_func(R,P,Q,mu,b_u,b_i,lamb):\n",
    "    sigma = np.sum(((R - mu - b_u[:,np.newaxis] - b_i[np.newaxis,:] - np.dot(P,Q.T))*(R != 0))**2)\n",
    "    cost = sigma + (lamb/2) * (np.sum(b_i**2) + np.sum(b_u**2) + np.linalg.norm(P) + np.linalg.norm(Q))\n",
    "    return cost\n",
    "\n",
    "def matrix_factorization(R,latent_dim = 20,alpha=0.008,lamb=0.02):\n",
    "    # initialize parameter\n",
    "    low = 0.1\n",
    "    high = 0.5\n",
    "    P = np.random.uniform(low=low,high =high,size=(R.shape[0],latent_dim))\n",
    "    Q = np.random.uniform(low=low,high =high,size=(R.shape[1],latent_dim))\n",
    "    mu = R.sum() / (R != 0).sum()\n",
    "    b_u = np.random.uniform(low=low, high=high,size=(R.shape[0]))\n",
    "    b_i = np.random.uniform(low=low,high=high,size=(R.shape[1]))\n",
    "#     b_u = R.sum(1) / (R != 0).sum(1) - mu #行(user)のbias\n",
    "#     b_i = R.sum(0) / (R != 0).sum(0) - mu #列(item)のbias\n",
    "    \n",
    "    for epoch in xrange(500):\n",
    "        for i,j in np.argwhere(R != 0):# i: user ID, j: Item ID\n",
    "            err = R[i,j] - np.dot(P[i],Q[j].T) - mu - b_u[i] - b_i[j] \n",
    "            #update\n",
    "            b_u[i] += alpha*(err - lamb*b_u[i])\n",
    "            b_i[j] += alpha*(err - lamb*b_i[j])\n",
    "            Q[j] += alpha*(err*P[i] - lamb*Q[j])\n",
    "            P[i] += alpha*(err*Q[j] - lamb*P[i])\n",
    "        cost = cost_func(R,P,Q,mu,b_u,b_i,lamb)\n",
    "        pred = np.around(np.dot(P,Q.T)+ mu + b_u[:,np.newaxis] + b_i[np.newaxis,:]).astype(\"int8\")\n",
    "        if (epoch+1) % 50 == 0:\n",
    "            cost = cost_func(R,P,Q,mu,b_u,b_i,lamb)\n",
    "            pred = np.around(np.dot(P,Q.T)+ mu + b_u[:,np.newaxis] + b_i[np.newaxis,:]).astype(\"int8\")\n",
    "            print \"epoch: %s , cost: %s , f値: %s\" % (epoch+1, cost, f1_score(R,pred))\n",
    "        \n",
    "    return pred\n",
    "        "
   ]
  },
  {
   "cell_type": "code",
   "execution_count": 36,
   "metadata": {
    "collapsed": false
   },
   "outputs": [
    {
     "name": "stdout",
     "output_type": "stream",
     "text": [
      "[[5 3 4 3 3 5 4 1 5 3]\n",
      " [4 0 0 0 0 0 0 0 0 2]\n",
      " [0 0 0 0 0 0 0 0 0 0]]\n",
      "epoch: 50 , cost: 3802.62712795 , f値: 0.690247160989\n",
      "epoch: 100 , cost: 2585.23882111 , f値: 0.783099532398\n",
      "epoch: 150 , cost: 2250.2801378 , f値: 0.813961255845\n",
      "epoch: 200 , cost: 2091.52787483 , f値: 0.829458917836\n",
      "epoch: 250 , cost: 1997.77582818 , f値: 0.838877755511\n",
      "epoch: 300 , cost: 1934.45664253 , f値: 0.844689378758\n",
      "epoch: 350 , cost: 1888.1050546 , f値: 0.850701402806\n",
      "epoch: 400 , cost: 1852.64543603 , f値: 0.853774215097\n",
      "epoch: 450 , cost: 1824.69966218 , f値: 0.857581830327\n",
      "epoch: 500 , cost: 1802.13045952 , f値: 0.858183032732\n"
     ]
    },
    {
     "data": {
      "text/plain": [
       "0.85818303273213092"
      ]
     },
     "execution_count": 36,
     "metadata": {},
     "output_type": "execute_result"
    }
   ],
   "source": [
    "test = R[:300,:300]\n",
    "# rng = np.random.RandomState(1234)\n",
    "# test = rng.randint(0,6,(50,50))\n",
    "\n",
    "print test.astype(\"int8\")[:3,:10]\n",
    "pred = matrix_factorization(test,20)\n",
    "#print pred\n",
    "f1_score(test,pred)\n"
   ]
  },
  {
   "cell_type": "markdown",
   "metadata": {},
   "source": [
    "## 練習"
   ]
  },
  {
   "cell_type": "code",
   "execution_count": 9,
   "metadata": {
    "collapsed": false
   },
   "outputs": [
    {
     "name": "stdout",
     "output_type": "stream",
     "text": [
      "----------------------------------------------------------------------------------------------------\n",
      "[[3 3 4 5 2 2 2]\n",
      " [2 2 3 4 1 1 1]\n",
      " [3 3 5 5 2 2 2]\n",
      " [3 2 4 4 2 2 1]]\n"
     ]
    }
   ],
   "source": [
    "latent_dim = 2\n",
    "\n",
    "R = np.array([\n",
    "    [3,3,4,5,0,2,0],\n",
    "    [2,0,0,4,0,0,2],\n",
    "    [0,3,5,0,0,0,0],\n",
    "    [3,0,0,4,2,0,1],],dtype=\"float32\")\n",
    "\n",
    "print \"-----\" * 20\n",
    "ans = matrix_factorization(R,3)\n",
    "print np.around(ans)"
   ]
  },
  {
   "cell_type": "code",
   "execution_count": 22,
   "metadata": {
    "collapsed": false
   },
   "outputs": [],
   "source": [
    "# non_zero_index_of_R = np.argwhere(R != 0)\n",
    "# err = R\n",
    "# print err\n",
    "# err[non_zero_index_of_R.T[0], non_zero_index_of_R.T[1]] = np.dot(P,Q.T)[non_zero_index_of_R.T[0], non_zero_index_of_R.T[1]]\n",
    "# print err\n",
    "# print err.shape\n",
    "# print non_zero_index_of_R.T\n",
    "# print R[non_zero_index_of_R.T[0], non_zero_index_of_R.T[1]]\n",
    "f1_score(np.argmax(valid_y, axis=1).astype('int32'), pred_y, average='macro')\n",
    "# np.where(R != 0)"
   ]
  },
  {
   "cell_type": "code",
   "execution_count": null,
   "metadata": {
    "collapsed": true
   },
   "outputs": [],
   "source": []
  },
  {
   "cell_type": "code",
   "execution_count": null,
   "metadata": {
    "collapsed": true
   },
   "outputs": [],
   "source": []
  }
 ],
 "metadata": {
  "kernelspec": {
   "display_name": "Python 2",
   "language": "python",
   "name": "python2"
  },
  "language_info": {
   "codemirror_mode": {
    "name": "ipython",
    "version": 2
   },
   "file_extension": ".py",
   "mimetype": "text/x-python",
   "name": "python",
   "nbconvert_exporter": "python",
   "pygments_lexer": "ipython2",
   "version": "2.7.11"
  }
 },
 "nbformat": 4,
 "nbformat_minor": 0
}

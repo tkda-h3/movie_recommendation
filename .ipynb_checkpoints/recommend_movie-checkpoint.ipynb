{
 "cells": [
  {
   "cell_type": "code",
   "execution_count": 1,
   "metadata": {
    "collapsed": true
   },
   "outputs": [],
   "source": [
    "import numpy as np\n",
    "rng = np.random.RandomState(1234)"
   ]
  },
  {
   "cell_type": "markdown",
   "metadata": {},
   "source": [
    "## データの用意"
   ]
  },
  {
   "cell_type": "code",
   "execution_count": 2,
   "metadata": {
    "collapsed": false
   },
   "outputs": [
    {
     "name": "stdout",
     "output_type": "stream",
     "text": [
      "(943, 1682)\n"
     ]
    }
   ],
   "source": [
    "dir_name = './ml-100k/'\n",
    "f = open(dir_name + 'u.info')\n",
    "user_num, item_num = [(int)(li.split(\" \")[0]) for li in f.readlines()[:-1]]\n",
    "f.close()\n",
    "R = np.zeros((user_num,item_num))\n",
    "print R.shape\n",
    "f = open(dir_name + 'u.data')\n",
    "# lines = [ li.split(\"\\t\")[:-1] for li in f.readlines()]\n",
    "lines = [map(lambda x: int(x), li.split(\"\\t\")[:-1]) for li in f.readlines()]\n",
    "f.close()\n",
    "for li in lines:\n",
    "    R[li[0]-1,li[1]-1] = li[2]\n",
    "# R[0:3,0:20]"
   ]
  },
  {
   "cell_type": "markdown",
   "metadata": {
    "collapsed": false
   },
   "source": [
    "\\begin{equation*} \\min_{p,q,b_u,b_i} \\sum_{(u,i) \\in R} (r_{u,i} - p_u q^{T}_i - \\mu - b_u - b_i)^{2} + \\lambda ()^{2}\\end{equation*}"
   ]
  },
  {
   "cell_type": "code",
   "execution_count": 6,
   "metadata": {
    "collapsed": false
   },
   "outputs": [],
   "source": [
    "def matrix_factorization(R,P,Q,latent_dim = 20,alpha=0.005,lamb=0.02):\n",
    "    # initialize parameter\n",
    "    P = np.random.uniform(low=-0.1,high =0.1,size=(R.shape[0],latent_dim))\n",
    "    Q = np.random.uniform(low=-0.1,high =0.1,size=(R.shape[1],latent_dim))\n",
    "    mu = R.sum() / (R != 0).sum()\n",
    "    b_u = R.sum(1) / (R != 0).sum(1)\n",
    "    b_i = R.sum(0) / (R != 0).sum(0)\n",
    "    \n",
    "    for epoch in xrange(100):\n",
    "        #errの計算\n",
    "        non_zero_index_of_R = np.argwhere(R != 0).T\n",
    "        err = R; \n",
    "        # Rの0の要素は計算に含めない\n",
    "        err[non_zero_index_of_R[0],non_zero_index_of_R[1]] -= np.dot(P,Q.T)[non_zero_index_of_R[0],non_zero_index_of_R[1]]\n",
    "        \n",
    "        #update\n",
    "        \n",
    "        \n",
    "    \n",
    "    \n",
    "    "
   ]
  },
  {
   "cell_type": "code",
   "execution_count": null,
   "metadata": {
    "collapsed": true
   },
   "outputs": [],
   "source": []
  },
  {
   "cell_type": "markdown",
   "metadata": {},
   "source": [
    "## 練習"
   ]
  },
  {
   "cell_type": "code",
   "execution_count": 42,
   "metadata": {
    "collapsed": false
   },
   "outputs": [
    {
     "name": "stdout",
     "output_type": "stream",
     "text": [
      "[ 3.4   2.25  4.  ]\n",
      "[ 2.5  3.   4.5  4.5  2.   1.5]\n",
      "[[ 3.  3.  4.  5.  0.  2.]\n",
      " [ 2.  0.  0.  4.  2.  1.]\n",
      " [ 0.  3.  5.  0.  0.  0.]]\n",
      "[[ 0.00517816  0.00419522 -0.00533185  0.00330585  0.         -0.00524013]\n",
      " [ 0.00359699  0.          0.          0.00251541 -0.00267259 -0.00394264]\n",
      " [ 0.          0.00645055 -0.00431729  0.          0.          0.        ]]\n"
     ]
    }
   ],
   "source": [
    "latent_dim = 2\n",
    "\n",
    "P = np.random.uniform(low=-0.1,high =0.1,size=(R.shape[0],latent_dim))\n",
    "Q = np.random.uniform(low=-0.1,high =0.1,size=(R.shape[1],latent_dim))\n",
    "\n",
    "R = np.array([\n",
    "    [3,3,4,5,0,2],\n",
    "    [2,0,0,4,2,1],\n",
    "    [0,3,5,0,0,0],],dtype=\"float32\")\n",
    "print(R.sum(1) / (R != 0).sum(1)) # [3.4, 2.25, 4.]\n",
    "print(R.sum(0) / (R != 0).sum(0)) # [2.5, 3. ,4.5, 2., 1.5]\n",
    "\n",
    "\n",
    "non_zero_index_of_R = np.argwhere(R != 0)\n",
    "err = R\n",
    "print err\n",
    "err[non_zero_index_of_R.T[0], non_zero_index_of_R.T[1]] = np.dot(P,Q.T)[non_zero_index_of_R.T[0], non_zero_index_of_R.T[1]]\n",
    "print err\n",
    "# print non_zero_index_of_R.T\n",
    "# print R[non_zero_index_of_R.T[0], non_zero_index_of_R.T[1]]\n",
    "\n",
    "# np.where(R != 0)"
   ]
  },
  {
   "cell_type": "code",
   "execution_count": null,
   "metadata": {
    "collapsed": true
   },
   "outputs": [],
   "source": []
  }
 ],
 "metadata": {
  "kernelspec": {
   "display_name": "Python 2",
   "language": "python",
   "name": "python2"
  },
  "language_info": {
   "codemirror_mode": {
    "name": "ipython",
    "version": 2
   },
   "file_extension": ".py",
   "mimetype": "text/x-python",
   "name": "python",
   "nbconvert_exporter": "python",
   "pygments_lexer": "ipython2",
   "version": "2.7.11"
  }
 },
 "nbformat": 4,
 "nbformat_minor": 0
}

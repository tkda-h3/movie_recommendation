{
 "cells": [
  {
   "cell_type": "code",
   "execution_count": 1,
   "metadata": {
    "collapsed": true
   },
   "outputs": [],
   "source": [
    "import numpy as np\n",
    "rng = np.random.RandomState(1234)"
   ]
  },
  {
   "cell_type": "markdown",
   "metadata": {},
   "source": [
    "## データの用意"
   ]
  },
  {
   "cell_type": "code",
   "execution_count": 86,
   "metadata": {
    "collapsed": false
   },
   "outputs": [
    {
     "name": "stdout",
     "output_type": "stream",
     "text": [
      "(943, 1682)\n"
     ]
    }
   ],
   "source": [
    "dir_name = './ml-100k/'\n",
    "f = open(dir_name + 'u.info')\n",
    "user_num, item_num = [(int)(li.split(\" \")[0]) for li in f.readlines()[:-1]]\n",
    "f.close()\n",
    "R = np.zeros((user_num,item_num))\n",
    "print R.shape\n",
    "f = open(dir_name + 'u.data')\n",
    "# lines = [ li.split(\"\\t\")[:-1] for li in f.readlines()]\n",
    "lines = [map(lambda x: int(x), li.split(\"\\t\")[:-1]) for li in f.readlines()]\n",
    "f.close()\n",
    "for li in lines:\n",
    "    R[li[0]-1,li[1]-1] = li[2]\n",
    "# R[0:3,0:20]"
   ]
  },
  {
   "cell_type": "markdown",
   "metadata": {
    "collapsed": false
   },
   "source": [
    "\\begin{equation*} \\min_{p,q,b_u,b_i} \\sum_{(u,i) \\in R} (r_{u,i} - p_u q^{T}_i - \\mu - b_u - b_i)^{2} + \\lambda ()^{2}\\end{equation*}"
   ]
  },
  {
   "cell_type": "code",
   "execution_count": 97,
   "metadata": {
    "collapsed": false
   },
   "outputs": [],
   "source": [
    "def matrix_factorization(R,latent_dim = 20,alpha=0.05,lamb=0.1):\n",
    "    # initialize parameter\n",
    "    P = np.random.uniform(low=-0.1,high =0.1,size=(R.shape[0],latent_dim))\n",
    "    Q = np.random.uniform(low=-0.1,high =0.1,size=(R.shape[1],latent_dim))\n",
    "    mu = R.sum() / (R != 0).sum()\n",
    "    b_u = R.sum(1) / (R != 0).sum(1) - mu #行(user)のbias\n",
    "    print b_u\n",
    "    b_i = R.sum(0) / (R != 0).sum(0) - mu #列(item)のbias\n",
    "    \n",
    "    for epoch in xrange(10000):\n",
    "        #errの計算\n",
    "        non_zero_index_of_R = np.argwhere(R != 0).T\n",
    "        err = R; \n",
    "        # Rの0の要素は計算に含めない\n",
    "        err[non_zero_index_of_R[0],non_zero_index_of_R[1]] -= np.dot(P,Q.T)[non_zero_index_of_R[0],non_zero_index_of_R[1]]\n",
    "        #update\n",
    "        b_u += alpha * (err.sum(1) - err.shape[1] * lamb * b_u)\n",
    "        b_i  += alpha * (err.sum(0) - err.shape[0] * lamb * b_i)\n",
    "        Q += alpha * (np.dot(err.T,P) - err.shape[0] * lamb * Q)\n",
    "        P += alpha * (np.dot(err,Q) - err.shape[1] * lamb * P)\n",
    "        \n",
    "        print P\n",
    "        print Q\n",
    "        return np.dot(P,Q.T)\n",
    "        \n",
    "    \n",
    "    \n",
    "    "
   ]
  },
  {
   "cell_type": "markdown",
   "metadata": {},
   "source": [
    "## 練習"
   ]
  },
  {
   "cell_type": "code",
   "execution_count": 98,
   "metadata": {
    "collapsed": false
   },
   "outputs": [
    {
     "name": "stdout",
     "output_type": "stream",
     "text": [
      "[[ 3.  3.  4.  5.  0.  2.  0.  0.  0.  3.]\n",
      " [ 2.  0.  0.  4.  0.  0.  2.  0.  0.  0.]\n",
      " [ 0.  3.  5.  0.  0.  0.  0.  0.  4.  3.]\n",
      " [ 3.  0.  0.  4.  2.  0.  1.  1.  0.  0.]]\n",
      "-------------------------\n",
      "[ 0.33333333 -0.33333333  0.75       -0.8       ]\n",
      "[[ 0.0110798   0.08965197  0.02582312]\n",
      " [ 0.09285773  0.1004584  -0.00524469]\n",
      " [-0.07698138 -0.06839108  0.06835615]\n",
      " [-0.07337858 -0.04674945  0.02147605]]\n",
      "[[-0.09200928 -0.05416234  0.04418836]\n",
      " [ 0.04439112 -0.03478817  0.00675135]\n",
      " [-0.10467671 -0.02628918  0.11219815]\n",
      " [ 0.08933604  0.06986553 -0.0776026 ]\n",
      " [-0.03318609 -0.00323642  0.06138633]\n",
      " [ 0.09360741 -0.05138407 -0.07266071]\n",
      " [-0.07544411  0.04257042  0.08984087]\n",
      " [ 0.01796646  0.00221311 -0.03804733]\n",
      " [-0.04168385 -0.094298   -0.07816074]\n",
      " [-0.01099795  0.03497799 -0.00780537]]\n"
     ]
    },
    {
     "data": {
      "text/plain": [
       "array([[-0.00473412, -0.00245264, -0.00061937,  0.00524947,  0.00092734,\n",
       "        -0.00544586,  0.00530059, -0.00058503, -0.0109342 ,  0.00281243],\n",
       "       [-0.01421659,  0.00059189, -0.01294945,  0.01572112, -0.00372866,\n",
       "         0.00391129, -0.0032002 ,  0.0020902 , -0.01293377,  0.00253353],\n",
       "       [ 0.01380777, -0.00057659,  0.01752554, -0.01696001,  0.00697219,\n",
       "        -0.00865862,  0.00903753, -0.00413521,  0.00431526, -0.00207909],\n",
       "       [ 0.01023256, -0.00148604,  0.01131961, -0.01148813,  0.00390478,\n",
       "        -0.00602707,  0.00547526, -0.00223892,  0.0057885 , -0.00099582]])"
      ]
     },
     "execution_count": 98,
     "metadata": {},
     "output_type": "execute_result"
    }
   ],
   "source": [
    "latent_dim = 2\n",
    "\n",
    "P = np.random.uniform(low=0,high =1,size=(R.shape[0],latent_dim))\n",
    "Q = np.random.uniform(low=0,high =1,size=(R.shape[1],latent_dim))\n",
    "\n",
    "R = np.array([\n",
    "    [3,3,4,5,0,2,0,0,0,3],\n",
    "    [2,0,0,4,0,0,2,0,0,0],\n",
    "    [0,3,5,0,0,0,0,0,4,3],\n",
    "    [3,0,0,4,2,0,1,1,0,0],],dtype=\"float32\")\n",
    "# print(R.sum(1) / (R != 0).sum(1)) \n",
    "# print(R.sum(0) / (R != 0).sum(0)) \n",
    "# print(R.sum() / (R != 0).sum()) \n",
    "\n",
    "print R\n",
    "print \"-----\" * 5\n",
    "matrix_factorization(R,3)\n",
    "\n",
    "# non_zero_index_of_R = np.argwhere(R != 0)\n",
    "# err = R\n",
    "# print err\n",
    "# err[non_zero_index_of_R.T[0], non_zero_index_of_R.T[1]] = np.dot(P,Q.T)[non_zero_index_of_R.T[0], non_zero_index_of_R.T[1]]\n",
    "# print err\n",
    "# print err.shape\n",
    "# print non_zero_index_of_R.T\n",
    "# print R[non_zero_index_of_R.T[0], non_zero_index_of_R.T[1]]\n",
    "\n",
    "# np.where(R != 0)"
   ]
  },
  {
   "cell_type": "code",
   "execution_count": null,
   "metadata": {
    "collapsed": true
   },
   "outputs": [],
   "source": []
  },
  {
   "cell_type": "code",
   "execution_count": null,
   "metadata": {
    "collapsed": true
   },
   "outputs": [],
   "source": []
  }
 ],
 "metadata": {
  "kernelspec": {
   "display_name": "Python 2",
   "language": "python",
   "name": "python2"
  },
  "language_info": {
   "codemirror_mode": {
    "name": "ipython",
    "version": 2
   },
   "file_extension": ".py",
   "mimetype": "text/x-python",
   "name": "python",
   "nbconvert_exporter": "python",
   "pygments_lexer": "ipython2",
   "version": "2.7.11"
  }
 },
 "nbformat": 4,
 "nbformat_minor": 0
}
